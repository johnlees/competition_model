{
 "cells": [
  {
   "cell_type": "code",
   "execution_count": 1,
   "metadata": {
    "collapsed": true
   },
   "outputs": [],
   "source": [
    "#!python3\n",
    "\n",
    "# imports\n",
    "from math import exp\n",
    "import numpy as np\n",
    "from scipy import integrate\n",
    "import sdeint\n",
    "import matplotlib.pyplot as plt"
   ]
  },
  {
   "cell_type": "code",
   "execution_count": 2,
   "metadata": {
    "collapsed": true
   },
   "outputs": [],
   "source": [
    "# Model definition\n",
    "\n",
    "# Logistic growth solution\n",
    "def log_grow(K, N0, r, t):\n",
    "    return((K*N0*exp(r*t)) / (K + N0*(exp(r*t) - 1)))\n",
    "\n",
    "log_grow_vec = np.vectorize(log_grow)\n",
    "\n",
    "# Model for populations\n",
    "def dN_dt(N, t, K, r_res, r_chal, a_RC, a_CR):\n",
    "    return np.array([ N[0]*(r_res/K)*(K-N[0]-a_RC*N[1]),\n",
    "                   N[1]*(r_chal/K)*(K-N[1]-a_CR*N[0])])\n",
    "\n",
    "# Closure, for use with sdeint\n",
    "def dN_dt_stochatic(K, r_res, r_chal, a_RC, a_CR):\n",
    "    def f(N, t):\n",
    "        return np.array([ N[0]*(r_res/K)*(K-N[0]-a_RC*N[1]),\n",
    "                   N[1]*(r_chal/K)*(K-N[1]-a_CR*N[0])])\n",
    "    return f\n",
    "\n",
    "# Jacobian\n",
    "def d2N_dt2(N, t, K, r_res, r_chal, a_RC, a_CR):\n",
    "    return np.array([[(r_res/K)*(K-2*N[0]-a_RC*N[1]), -(r_res/K)*N[0]*a_RC           ],\n",
    "                  [-(r_chal/K)*N[1]*a_CR         , (r_chal/K)*(K-2*N[1]-a_CR*N[0])]])\n",
    "\n",
    "# Brownian motion\n",
    "def brownian(B_stren):\n",
    "    B = np.diag([B_stren, B_stren])\n",
    "    def G(x, t):\n",
    "        return B  \n",
    "    return G"
   ]
  },
  {
   "cell_type": "code",
   "execution_count": 7,
   "metadata": {
    "collapsed": true
   },
   "outputs": [],
   "source": [
    "# model parameters\n",
    "\n",
    "# see log_growth_fit.R for estimates\n",
    "K = 67614            # carrying capacity\n",
    "r_res = 0.969752     # growth rate (resident)\n",
    "r_chal = r_res       # growth rate (challenger)\n",
    "\n",
    "# competition terms\n",
    "gamma_res_chal = 1 # competition (challenger on resident)\n",
    "gamma_chal_res = 1 # competition (resident on challenger)\n",
    "beta = 1.1           # strength of effect of competence\n",
    "\n",
    "# arrival times (in hours)\n",
    "t_com = 6      # time for competence to develop\n",
    "t_chal = 4     # time of arrival of challenger inoculum\n",
    "t_end = 10     # time to run integration in final step\n",
    "\n",
    "# starting parameters\n",
    "C_size = 10000  # size of challenger inoculum\n",
    "R_size = 100     # size of resident inoculum\n",
    "\n",
    "# Brownian motion strength\n",
    "stochastic = False\n",
    "B_stren = 5000"
   ]
  },
  {
   "cell_type": "code",
   "execution_count": 4,
   "metadata": {
    "collapsed": true
   },
   "outputs": [],
   "source": [
    "# Numerical setup\n",
    "\n",
    "# Number of points per hour\n",
    "resolution = 5000\n",
    "def t_range(start, end, resolution):\n",
    "    assert end > start\n",
    "    points = int(round(resolution/(end-start)))\n",
    "    return np.linspace(start, end, points)\n",
    "\n",
    "# Set up Brownian motion\n",
    "if stochastic:\n",
    "    G = brownian(B_stren)"
   ]
  },
  {
   "cell_type": "code",
   "execution_count": 8,
   "metadata": {
    "collapsed": true
   },
   "outputs": [],
   "source": [
    "# Run integration in three pieces\n",
    "t0 = t_range(0, t_chal, resolution)\n",
    "N0 = np.vstack((log_grow_vec(K, R_size, r_res, t0), np.zeros(t0.shape[0]))).T\n",
    "N0_end = np.array([log_grow(K, R_size, r_res, t_chal), C_size]) # initial conditions\n",
    "a_RC = gamma_res_chal\n",
    "a_CR = gamma_chal_res\n",
    "\n",
    "\n",
    "if (t_chal < t_com):\n",
    "    # From arrival of challenger to development of competence\n",
    "    t1 = t_range(t_chal, t_com, resolution)\n",
    "    if stochastic:\n",
    "        f = dN_dt_stochatic(K, r_res, r_chal, a_RC, a_CR)\n",
    "        N1 = sdeint.itoint(f, G, N0_end, t1)\n",
    "    else:\n",
    "        N1 = integrate.odeint(dN_dt, N0_end, t1, args=(K, r_res, r_chal, a_RC, a_CR), Dfun=d2N_dt2)\n",
    "    \n",
    "    N1_end = N1[-1,:]\n",
    "    t2 = t_range(t_com, t_com + t_chal, resolution) \n",
    "else:\n",
    "    # case where t_chal > t_com (only two pieces)\n",
    "    N1_end = N0\n",
    "    t2 = t_range(t_chal, t_com + t_chal, resolution)\n",
    "\n",
    "# From development of competence in resident to development of competence in challenger\n",
    "a_CR = gamma_chal_res + beta\n",
    "if stochastic:\n",
    "    f = dN_dt_stochatic(K, r_res, r_chal, a_RC, a_CR)\n",
    "    N2 = sdeint.itoint(f, G, N1_end, t2)\n",
    "else:\n",
    "    N2 = integrate.odeint(dN_dt, N1_end, t2, args=(K, r_res, r_chal, a_RC, a_CR), Dfun=d2N_dt2)\n",
    "\n",
    "# From development of competence in resident to development of competence in challenger\n",
    "t3 = t_range(t_com + t_chal, t_com + t_chal + t_end, resolution)\n",
    "N2_end = N2[-1,:]\n",
    "a_RC = gamma_res_chal + beta\n",
    "if stochastic:\n",
    "    f = dN_dt_stochatic(K, r_res, r_chal, a_RC, a_CR)\n",
    "    N3 = sdeint.itoint(f, G, N2_end, t3)\n",
    "else:\n",
    "    N3 = integrate.odeint(dN_dt, N2_end, t3, args=(K, r_res, r_chal, a_RC, a_CR), Dfun=d2N_dt2)"
   ]
  },
  {
   "cell_type": "code",
   "execution_count": 9,
   "metadata": {},
   "outputs": [
    {
     "data": {
      "image/png": "[encoded data removed]",
      "text/plain": [
       "<matplotlib.figure.Figure at 0x150ff9b320>"
      ]
     },
     "metadata": {},
     "output_type": "display_data"
    }
   ],
   "source": [
    "# Draw plot\n",
    "f1 = plt.figure()\n",
    "plt.plot(t0, N0[:,0], 'r-', label='Resident')\n",
    "plt.plot(t0, N0[:,1], 'b-', label='Challenger')\n",
    "\n",
    "if (t_chal < t_com):\n",
    "    plt.plot(t1, N1[:,0], 'r-')\n",
    "    plt.plot(t1, N1[:,1], 'b-')\n",
    "\n",
    "plt.plot(t2, N2[:,0], 'r-')\n",
    "plt.plot(t2, N2[:,1], 'b-')\n",
    "\n",
    "plt.plot(t3, N3[:,0], 'r-')\n",
    "plt.plot(t3, N3[:,1], 'b-')\n",
    "    \n",
    "plt.grid()\n",
    "plt.legend(loc='best')\n",
    "plt.xlabel('Time (hrs)')\n",
    "plt.ylabel('CFU')\n",
    "if stochastic:\n",
    "    plt.title('Resident vs. challenger (stochastic)')\n",
    "    f1.savefig('res_chal_stochastic.pdf')\n",
    "else:\n",
    "    plt.title('Resident vs. challenger (deterministic)')\n",
    "    f1.savefig('res_chal_deterministic.pdf')\n",
    "plt.show()"
   ]
  },
  {
   "cell_type": "code",
   "execution_count": null,
   "metadata": {
    "collapsed": true
   },
   "outputs": [],
   "source": []
  }
 ],
 "metadata": {
  "kernelspec": {
   "display_name": "Python 3",
   "language": "python",
   "name": "python3"
  },
  "language_info": {
   "codemirror_mode": {
    "name": "ipython",
    "version": 3
   },
   "file_extension": ".py",
   "mimetype": "text/x-python",
   "name": "python",
   "nbconvert_exporter": "python",
   "pygments_lexer": "ipython3",
   "version": "3.6.3"
  }
 },
 "nbformat": 4,
 "nbformat_minor": 2
}
