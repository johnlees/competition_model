{
 "cells": [
  {
   "cell_type": "code",
   "execution_count": null,
   "metadata": {},
   "outputs": [],
   "source": [
    "#!python3\n",
    "\n",
    "# imports\n",
    "import sys\n",
    "import numpy as np\n",
    "from lmfit import minimize, Parameters, report_fit\n",
    "import statsmodels.formula.api as smf\n",
    "import matplotlib.pyplot as plt"
   ]
  },
  {
   "cell_type": "code",
   "execution_count": null,
   "metadata": {},
   "outputs": [],
   "source": [
    "# Functions to define fit\n",
    "def logit_growth(K, R0, r, t):\n",
    "    return((K*R0*np.exp(r*t)) / (K + R0*(np.exp(r*t) - 1)))\n",
    "\n",
    "# Vectorised for plotting\n",
    "vec_growth = np.vectorize(logit_growth)\n",
    "\n",
    "def residual(params, t, data):\n",
    "    K = params['K']\n",
    "    R0 = params['R0']\n",
    "    r = params['r']\n",
    "\n",
    "    model = logit_growth(K, R0, r, t)\n",
    "\n",
    "    return (data - model)"
   ]
  },
  {
   "cell_type": "code",
   "execution_count": null,
   "metadata": {},
   "outputs": [],
   "source": [
    "# Read in data\n",
    "with open(\"../cfu_time.tsv\", 'r') as observations:\n",
    "    header = observations.readline()\n",
    "    data = []\n",
    "    for line in observations:\n",
    "        time, cfu = line.rstrip().split(\"\\t\")\n",
    "        data.append((float(time), float(cfu)))\n",
    "    data = np.asarray(data)"
   ]
  },
  {
   "cell_type": "code",
   "execution_count": null,
   "metadata": {},
   "outputs": [],
   "source": [
    "# Start values\n",
    "\n",
    "# with intercept\n",
    "# reg_x = np.hstack((np.ones(data.shape[0]).reshape(-1, 1),\n",
    "#                         data[:, 0].reshape(-1, 1))\n",
    "\n",
    "reg_x = data[:, 0]\n",
    "regression = smf.OLS(np.log(data[:, 1]), reg_x).fit()\n",
    "r_start = regression.params[0]\n",
    "\n",
    "K_start = np.amax(data[:,1])"
   ]
  },
  {
   "cell_type": "code",
   "execution_count": null,
   "metadata": {},
   "outputs": [],
   "source": [
    "# Perform fit\n",
    "params = Parameters()\n",
    "params.add('K', value=K_start, min = 1, max=10**5)\n",
    "params.add('R0', value=1, vary=False)\n",
    "params.add('r', value=r_start, min = 0, max = 5)\n",
    "\n",
    "out = minimize(residual, params, args=(data[:, 0], data[:, 1]))\n",
    "\n",
    "report_fit(out)"
   ]
  },
  {
   "cell_type": "code",
   "execution_count": null,
   "metadata": {},
   "outputs": [],
   "source": [
    "# Plot results\n",
    "t = np.linspace(0, 24, 1000)\n",
    "N = vec_growth(out.params['K'].value, 1, out.params['r'].value, t)\n",
    "\n",
    "f1 = plt.figure()\n",
    "\n",
    "plt.plot(data[:, 0], data[:, 1], 'o')\n",
    "plt.plot(t, N, 'r-')\n",
    "\n",
    "plt.grid()\n",
    "plt.legend(loc='best')\n",
    "plt.xlabel('Time (hrs)')\n",
    "plt.ylabel('CFU')\n",
    "plt.title(\"Logistic fit to growth\")\n",
    "\n",
    "f1.savefig(\"lmfit_growth.pdf\")\n",
    "plt.show()"
   ]
  },
  {
   "cell_type": "code",
   "execution_count": null,
   "metadata": {},
   "outputs": [],
   "source": [
    "sys.exit(0)"
   ]
  }
 ],
 "metadata": {
  "kernelspec": {
   "display_name": "Python 3",
   "language": "python",
   "name": "python3"
  },
  "language_info": {
   "codemirror_mode": {
    "name": "ipython",
    "version": 3
   },
   "file_extension": ".py",
   "mimetype": "text/x-python",
   "name": "python",
   "nbconvert_exporter": "python",
   "pygments_lexer": "ipython3",
   "version": "3.6.3"
  }
 },
 "nbformat": 4,
 "nbformat_minor": 2
}
