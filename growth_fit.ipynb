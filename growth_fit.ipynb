{
 "cells": [
  {
   "cell_type": "code",
   "execution_count": 1,
   "metadata": {
    "collapsed": true
   },
   "outputs": [],
   "source": [
    "#!python3\n",
    "\n",
    "# imports\n",
    "import sys\n",
    "import numpy as np\n",
    "from lmfit import minimize, Parameters, report_fit\n",
    "import statsmodels.formula.api as smf\n",
    "import matplotlib.pyplot as plt"
   ]
  },
  {
   "cell_type": "code",
   "execution_count": 2,
   "metadata": {
    "collapsed": true
   },
   "outputs": [],
   "source": [
    "# Functions to define fit\n",
    "def logit_growth(K, R0, r, t):\n",
    "    return((K*R0*np.exp(r*t)) / (K + R0*(np.exp(r*t) - 1)))\n",
    "\n",
    "# Vectorised for plotting\n",
    "vec_growth = np.vectorize(logit_growth)\n",
    "\n",
    "def residual(params, t, data):\n",
    "    K = params['K']\n",
    "    R0 = params['R0']\n",
    "    r = params['r']\n",
    "\n",
    "    model = logit_growth(K, R0, r, t)\n",
    "\n",
    "    return (data - model)"
   ]
  },
  {
   "cell_type": "code",
   "execution_count": 3,
   "metadata": {
    "collapsed": true
   },
   "outputs": [],
   "source": [
    "# Read in data\n",
    "with open(\"../cfu_time.tsv\", 'r') as observations:\n",
    "    header = observations.readline()\n",
    "    data = []\n",
    "    for line in observations:\n",
    "        time, cfu = line.rstrip().split(\"\\t\")\n",
    "        data.append((float(time), float(cfu)))\n",
    "    data = np.asarray(data)"
   ]
  },
  {
   "cell_type": "code",
   "execution_count": 4,
   "metadata": {
    "collapsed": true
   },
   "outputs": [],
   "source": [
    "# Start values\n",
    "\n",
    "# with intercept\n",
    "# reg_x = np.hstack((np.ones(data.shape[0]).reshape(-1, 1),\n",
    "#                         data[:, 0].reshape(-1, 1))\n",
    "\n",
    "reg_x = data[:, 0]\n",
    "regression = smf.OLS(np.log(data[:, 1]), reg_x).fit()\n",
    "r_start = regression.params[0]\n",
    "\n",
    "K_start = np.amax(data[:,1])"
   ]
  },
  {
   "cell_type": "code",
   "execution_count": 5,
   "metadata": {},
   "outputs": [
    {
     "name": "stdout",
     "output_type": "stream",
     "text": [
      "[[Fit Statistics]]\n",
      "    # function evals   = 48\n",
      "    # data points      = 46\n",
      "    # variables        = 2\n",
      "    chi-square         = 3692169300.147\n",
      "    reduced chi-square = 83912938.640\n",
      "    Akaike info crit   = 841.239\n",
      "    Bayesian info crit = 844.896\n",
      "[[Variables]]\n",
      "    K:    43614.9711 +/- 3.54e+03 (8.11%) (init= 62000)\n",
      "    R0:   1 (fixed)\n",
      "    r:    1.03239798 +/- 0.034540 (3.35%) (init= 0.6901732)\n",
      "[[Correlations]] (unreported correlations are <  0.100)\n",
      "    C(K, r)                      = -0.482 \n"
     ]
    }
   ],
   "source": [
    "# Perform fit\n",
    "params = Parameters()\n",
    "params.add('K', value=K_start, min = 1, max=10**5)\n",
    "params.add('R0', value=1, vary=False)\n",
    "params.add('r', value=r_start, min = 0, max = 5)\n",
    "\n",
    "out = minimize(residual, params, args=(data[:, 0], data[:, 1]))\n",
    "\n",
    "report_fit(out)"
   ]
  },
  {
   "cell_type": "code",
   "execution_count": 16,
   "metadata": {},
   "outputs": [
    {
     "data": {
      "image/png": "[encoded data removed]",
      "text/plain": [
       "<matplotlib.figure.Figure at 0x1a14dbbcf8>"
      ]
     },
     "metadata": {},
     "output_type": "display_data"
    }
   ],
   "source": [
    "# Plot results\n",
    "t = np.linspace(0, 24, 1000)\n",
    "N = vec_growth(out.params['K'].value, 1, out.params['r'].value, t)\n",
    "\n",
    "f1 = plt.figure()\n",
    "\n",
    "plt.plot(data[:, 0], data[:, 1], 'o')\n",
    "plt.plot(t, N, 'r-')\n",
    "\n",
    "plt.grid()\n",
    "plt.legend(loc='best')\n",
    "plt.xlabel('Time (hrs)')\n",
    "plt.ylabel('CFU')\n",
    "plt.title(\"Logistic fit to growth\")\n",
    "\n",
    "f1.savefig(\"lmfit_growth.pdf\")\n",
    "plt.show()"
   ]
  },
  {
   "cell_type": "code",
   "execution_count": null,
   "metadata": {
    "collapsed": true
   },
   "outputs": [],
   "source": [
    "sys.exit(0)"
   ]
  }
 ],
 "metadata": {
  "kernelspec": {
   "display_name": "Python 3",
   "language": "python",
   "name": "python3"
  },
  "language_info": {
   "codemirror_mode": {
    "name": "ipython",
    "version": 3
   },
   "file_extension": ".py",
   "mimetype": "text/x-python",
   "name": "python",
   "nbconvert_exporter": "python",
   "pygments_lexer": "ipython3",
   "version": "3.6.3"
  }
 },
 "nbformat": 4,
 "nbformat_minor": 2
}
